{
 "cells": [
  {
   "cell_type": "markdown",
   "metadata": {},
   "source": [
    "# Milestone 2 - Matthew Currie\n",
    "## Analyzing Health and Costs using the Medical_Cost dataset provided by UCI"
   ]
  },
  {
   "cell_type": "code",
   "execution_count": 1,
   "metadata": {},
   "outputs": [],
   "source": [
    "# Relative Importing of Data\n",
    "import sys\n",
    "sys.path.append(\"..\")\n",
    "from project_functions import load_data\n",
    "import pandas as pd\n",
    "import seaborn as sns\n",
    "import matplotlib.pyplot as plt\n",
    "\n",
    "DATA_PATH = \"../../data/raw/Medical_Cost.csv\""
   ]
  },
  {
   "cell_type": "markdown",
   "metadata": {},
   "source": [
    "### Analyzing the Health and Medical Costs of Men with children v. Men without children\n",
    "\n",
    "We want to create two data frames for comparison: `with_children` and `without_children`. But first, let's set some parameters for the men we want to compare as to narrow down potential variables.\n",
    "\n",
    " - Everyone should be in the age range of 25 to 50 (inclusive).\n",
    "   - This is to limit how much of a factor age is in our comparison\n",
    " - Everyone should not be a smoker\n",
    "   - This is to prevent any smoking related health differences from efffecting our comparison\n",
    "   \n",
    "Since the fields `sex` and `smoker` are going to be the same for everyone, we can drop these two fields from our DataFrame."
   ]
  },
  {
   "cell_type": "code",
   "execution_count": 7,
   "metadata": {},
   "outputs": [
    {
     "name": "stdout",
     "output_type": "stream",
     "text": [
      "Sample of Men with Children\n",
      "     age    bmi  children     region    charges\n",
      "88    37  24.32         2  northwest  6198.7518\n",
      "62    33  29.40         4  southwest  6059.1730\n",
      "106   39  32.34         2  southeast  6338.0756\n",
      "145   44  27.40         2  southwest  7726.8540\n",
      "158   45  20.35         3  southeast  8605.3615\n",
      "201\n",
      "--------------------------------------------------\n",
      "Sample of Men without Children\n",
      "    age     bmi  children     region      charges\n",
      "36   37  36.190         0  southeast  19214.70553\n",
      "28   34  34.210         0  southeast   3935.17990\n",
      "29   34  35.815         0  northwest   4320.41085\n",
      "6    26  35.420         0  southeast   2322.62180\n",
      "0    25  25.740         0  southeast   2137.65360\n",
      "67\n"
     ]
    }
   ],
   "source": [
    "params = {\n",
    "    'is_male' : True,\n",
    "    'older_than' : 24,\n",
    "    'younger_than' : 51,\n",
    "    'no_smokers' : True,\n",
    "    'reset_index' : True,\n",
    "    'drop' : ['sex', 'smoker']\n",
    "}\n",
    "\n",
    "with_children = load_data(\n",
    "    DATA_PATH,\n",
    "    has_children=True,\n",
    "    **params\n",
    ")\n",
    "\n",
    "no_children = load_data(\n",
    "    DATA_PATH,\n",
    "    has_children=False,\n",
    "    **params\n",
    ")\n",
    "\n",
    "print(\"Sample of Men with Children\")\n",
    "print(len(with_children.index))\n",
    "print('--------------------------------------------------')\n",
    "print(\"Sample of Men without Children\")\n",
    "print(no_children.sample(5))"
   ]
  },
  {
   "cell_type": "markdown",
   "metadata": {},
   "source": [
    "### Analyzing the distribution of the data\n",
    "\n",
    "Let's plot the count of the ages on a graph to make sure their distributions are close enough to validly compare."
   ]
  },
  {
   "cell_type": "code",
   "execution_count": 6,
   "metadata": {},
   "outputs": [
    {
     "data": {
      "image/png": "[encoded data removed]",
      "text/plain": [
       "<Figure size 421.25x360 with 1 Axes>"
      ]
     },
     "metadata": {
      "needs_background": "light"
     },
     "output_type": "display_data"
    }
   ],
   "source": [
    "data = with_children[['age', 'children']].append(no_children[['age', 'children']])\n",
    "data['has_child'] = data['children'] > 0\n",
    "\n",
    "ax = sns.displot(data, x='age', hue='has_child')"
   ]
  },
  {
   "cell_type": "markdown",
   "metadata": {},
   "source": [
    "### O no! It seems like there is not enough data about men without children to come to any firm conclusions.\n",
    "\n",
    "Looks like we will have to free up our memory and start ananlyzing something else.\n",
    "<!-- I spent so long on this plot it really makes me kind of sad that I don't have the data to do this analysis -->"
   ]
  },
  {
   "cell_type": "code",
   "execution_count": 8,
   "metadata": {},
   "outputs": [
    {
     "data": {
      "text/plain": [
       "151"
      ]
     },
     "execution_count": 8,
     "metadata": {},
     "output_type": "execute_result"
    }
   ],
   "source": [
    "# Free up memory to help with Python's performance\n",
    "import gc\n",
    "\n",
    "del with_children\n",
    "del no_children\n",
    "del data\n",
    "gc.collect()"
   ]
  },
  {
   "cell_type": "code",
   "execution_count": null,
   "metadata": {},
   "outputs": [],
   "source": []
  }
 ],
 "metadata": {
  "kernelspec": {
   "display_name": "Python 3",
   "language": "python",
   "name": "python3"
  },
  "language_info": {
   "codemirror_mode": {
    "name": "ipython",
    "version": 3
   },
   "file_extension": ".py",
   "mimetype": "text/x-python",
   "name": "python",
   "nbconvert_exporter": "python",
   "pygments_lexer": "ipython3",
   "version": "3.8.0"
  }
 },
 "nbformat": 4,
 "nbformat_minor": 4
}
